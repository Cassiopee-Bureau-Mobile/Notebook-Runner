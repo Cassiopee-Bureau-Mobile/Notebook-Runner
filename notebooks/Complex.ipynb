{
    "cells": [
        {
            "cell_type": "markdown",
            "metadata": {},
            "source": [
                "# Flame Speed with Convergence Analysis"
            ]
        },
        {
            "cell_type": "markdown",
            "metadata": {},
            "source": [
                "In this example we simulate a freely-propagating, adiabatic, 1-D flame and\n",
                "* Calculate its laminar burning velocity\n",
                "* Estimate the uncertainty in the laminar burning velocity calculation, due to grid size.\n",
                "\n",
                "*The error estimation and convergence analysis was developed and contributed by Richard West <r.west@northeastern.edu> in 2019. Please acknowledge it as such if you use it.*"
            ]
        },
        {
            "cell_type": "markdown",
            "metadata": {},
            "source": [
                "The figure below illustrates the setup, in a flame-fixed co-ordinate system. The reactants enter with density $\\rho_{u}$, temperature $T_{u}$ and speed $S_{u}$. The products exit the flame at speed $S_{b}$, density $\\rho_{b}$ and temperature $T_{b}$."
            ]
        },
        {
            "cell_type": "markdown",
            "metadata": {},
            "source": [
                "<img src=\"images/flameSpeed.png\" alt=\"Freely Propagating Flame\" style=\"width: 300px;\"/>"
            ]
        },
        {
            "cell_type": "markdown",
            "metadata": {},
            "source": [
                "### Import Modules"
            ]
        },
        {
            "cell_type": "code",
            "execution_count": null,
            "metadata": {},
            "outputs": [],
            "source": [
                "import cantera as ct\n",
                "import numpy as np\n",
                "import pandas as pd\n",
                "\n",
                "\n",
                "%config InlineBackend.figure_formats = [\"svg\"]\n",
                "%matplotlib inline\n",
                "from matplotlib import pyplot as plt\n",
                "import matplotlib\n",
                "\n",
                "from IPython.display import display, HTML\n",
                "\n",
                "import scipy\n",
                "import scipy.optimize\n",
                "\n",
                "print(f\"Running Cantera Version: {ct.__version__}\")"
            ]
        },
        {
            "cell_type": "code",
            "execution_count": null,
            "metadata": {},
            "outputs": [],
            "source": [
                "# Import plotting modules and define plotting preference\n",
                "\n",
                "plt.rcParams[\"axes.labelsize\"] = 14\n",
                "plt.rcParams[\"xtick.labelsize\"] = 12\n",
                "plt.rcParams[\"ytick.labelsize\"] = 12\n",
                "plt.rcParams[\"legend.fontsize\"] = 10\n",
                "plt.rcParams[\"figure.figsize\"] = (8, 6)\n",
                "plt.rcParams[\"figure.dpi\"] = 120\n",
                "\n",
                "# Get the best of both ggplot and seaborn\n",
                "plt.style.use(\"ggplot\")\n",
                "plt.style.use(\"seaborn-deep\")\n",
                "\n",
                "plt.rcParams[\"figure.autolayout\"] = True"
            ]
        },
        {
            "cell_type": "markdown",
            "metadata": {},
            "source": [
                "## Estimate uncertainty from grid size and speeds"
            ]
        },
        {
            "cell_type": "code",
            "execution_count": null,
            "metadata": {},
            "outputs": [],
            "source": [
                "def extrapolate_uncertainty(grids, speeds, plot=True):\n",
                "    \"\"\"\n",
                "    Given a list of grid sizes and a corresponding list of flame speeds,\n",
                "    extrapolate and estimate the uncertainty in the final flame speed.\n",
                "    Also makes a plot, unless called with `plot=False`.\n",
                "    \"\"\"\n",
                "    grids = list(grids)\n",
                "    speeds = list(speeds)\n",
                "\n",
                "    def speed_from_grid_size(grid_size, true_speed, error):\n",
                "        \"\"\"\n",
                "        Given a grid size (or an array or list of grid sizes)\n",
                "        return a prediction (or array of predictions)\n",
                "        of the computed flame speed, based on\n",
                "        the parameters `true_speed` and `error`.\n",
                "\n",
                "        It seems, from experience, that error scales roughly with\n",
                "        1/grid_size, so we assume that form.\n",
                "        \"\"\"\n",
                "        return true_speed + error / np.array(grid_size)\n",
                "\n",
                "    # Fit the chosen form of speed_from_grid_size, to the last four\n",
                "    # speed and grid size values.\n",
                "    popt, pcov = scipy.optimize.curve_fit(speed_from_grid_size, grids[-4:], speeds[-4:])\n",
                "\n",
                "    # How bad the fit was gives you some error, `percent_error_in_true_speed`.\n",
                "    perr = np.sqrt(np.diag(pcov))\n",
                "    true_speed_estimate = popt[0]\n",
                "    percent_error_in_true_speed = perr[0] / popt[0]\n",
                "    print(\n",
                "        f\"Fitted true_speed is {popt[0] * 100:.4f} Â± {perr[0] * 100:.4f} cm/s \"\n",
                "        f\"({percent_error_in_true_speed:.1%})\"\n",
                "    )\n",
                "\n",
                "    # How far your extrapolated infinite grid value is from your extrapolated\n",
                "    # (or interpolated) final grid value, gives you some other error, `estimated_percent_error`\n",
                "    estimated_percent_error = (\n",
                "        speed_from_grid_size(grids[-1], *popt) - true_speed_estimate\n",
                "    ) / true_speed_estimate\n",
                "    print(f\"Estimated error in final calculation {estimated_percent_error:.1%}\")\n",
                "\n",
                "    # The total estimated error is the sum of these two errors.\n",
                "    total_percent_error_estimate = abs(percent_error_in_true_speed) + abs(\n",
                "        estimated_percent_error\n",
                "    )\n",
                "    print(f\"Estimated total error {total_percent_error_estimate:.1%}\")\n",
                "\n",
                "    if plot:\n",
                "        plt.semilogx(grids, speeds, \"o-\")\n",
                "        plt.ylim(\n",
                "            min(speeds[-5:] + [true_speed_estimate - perr[0]]) * 0.95,\n",
                "            max(speeds[-5:] + [true_speed_estimate + perr[0]]) * 1.05,\n",
                "        )\n",
                "        plt.plot(grids[-4:], speeds[-4:], \"or\")\n",
                "        extrapolated_grids = grids + [grids[-1] * i for i in range(2, 8)]\n",
                "        plt.plot(\n",
                "            extrapolated_grids, speed_from_grid_size(extrapolated_grids, *popt), \":r\"\n",
                "        )\n",
                "        plt.xlim(*plt.xlim())\n",
                "        plt.hlines(true_speed_estimate, *plt.xlim(), colors=\"r\", linestyles=\"dashed\")\n",
                "        plt.hlines(\n",
                "            true_speed_estimate + perr[0],\n",
                "            *plt.xlim(),\n",
                "            colors=\"r\",\n",
                "            linestyles=\"dashed\",\n",
                "            alpha=0.3,\n",
                "        )\n",
                "        plt.hlines(\n",
                "            true_speed_estimate - perr[0],\n",
                "            *plt.xlim(),\n",
                "            colors=\"r\",\n",
                "            linestyles=\"dashed\",\n",
                "            alpha=0.3,\n",
                "        )\n",
                "        plt.fill_between(\n",
                "            plt.xlim(),\n",
                "            true_speed_estimate - perr[0],\n",
                "            true_speed_estimate + perr[0],\n",
                "            facecolor=\"red\",\n",
                "            alpha=0.1,\n",
                "        )\n",
                "\n",
                "        above = popt[1] / abs(\n",
                "            popt[1]\n",
                "        )  # will be +1 if approach from above or -1 if approach from below\n",
                "\n",
                "        plt.annotate(\n",
                "            \"\",\n",
                "            xy=(grids[-1], true_speed_estimate),\n",
                "            xycoords=\"data\",\n",
                "            xytext=(grids[-1], speed_from_grid_size(grids[-1], *popt)),\n",
                "            textcoords=\"data\",\n",
                "            arrowprops=dict(\n",
                "                arrowstyle=\"|-|, widthA=0.5, widthB=0.5\",\n",
                "                linewidth=1,\n",
                "                connectionstyle=\"arc3\",\n",
                "                color=\"black\",\n",
                "                shrinkA=0,\n",
                "                shrinkB=0,\n",
                "            ),\n",
                "        )\n",
                "\n",
                "        plt.annotate(\n",
                "            f\"{abs(estimated_percent_error):.1%}\",\n",
                "            xy=(grids[-1], speed_from_grid_size(grids[-1], *popt)),\n",
                "            xycoords=\"data\",\n",
                "            xytext=(5, 15 * above),\n",
                "            va=\"center\",\n",
                "            textcoords=\"offset points\",\n",
                "            arrowprops=dict(arrowstyle=\"->\", connectionstyle=\"arc3\"),\n",
                "        )\n",
                "\n",
                "        plt.annotate(\n",
                "            \"\",\n",
                "            xy=(grids[-1] * 4, true_speed_estimate - (above * perr[0])),\n",
                "            xycoords=\"data\",\n",
                "            xytext=(grids[-1] * 4, true_speed_estimate),\n",
                "            textcoords=\"data\",\n",
                "            arrowprops=dict(\n",
                "                arrowstyle=\"|-|, widthA=0.5, widthB=0.5\",\n",
                "                linewidth=1,\n",
                "                connectionstyle=\"arc3\",\n",
                "                color=\"black\",\n",
                "                shrinkA=0,\n",
                "                shrinkB=0,\n",
                "            ),\n",
                "        )\n",
                "        plt.annotate(\n",
                "            f\"{abs(percent_error_in_true_speed):.1%}\",\n",
                "            xy=(grids[-1] * 4, true_speed_estimate - (above * perr[0])),\n",
                "            xycoords=\"data\",\n",
                "            xytext=(5, -15 * above),\n",
                "            va=\"center\",\n",
                "            textcoords=\"offset points\",\n",
                "            arrowprops=dict(arrowstyle=\"->\", connectionstyle=\"arc3\"),\n",
                "        )\n",
                "\n",
                "        plt.ylabel(\"Flame speed (m/s)\")\n",
                "        plt.xlabel(\"Grid size\")\n",
                "        plt.show()\n",
                "\n",
                "    return true_speed_estimate, total_percent_error_estimate"
            ]
        },
        {
            "cell_type": "code",
            "execution_count": null,
            "metadata": {},
            "outputs": [],
            "source": [
                "def make_callback(flame):\n",
                "    \"\"\"\n",
                "    Create and return a callback function that you will attach to\n",
                "    a flame solver. The reason we define a function to make the callback function,\n",
                "    instead of just defining the callback function, is so that it can store\n",
                "    a pair of lists that persist between function calls, to store the\n",
                "    values of grid size and flame speed.\n",
                "\n",
                "    This factory returns the callback function, and the two lists:\n",
                "    (callback, speeds, grids)\n",
                "    \"\"\"\n",
                "    speeds = []\n",
                "    grids = []\n",
                "\n",
                "    def callback(_):\n",
                "        speed = flame.velocity[0]\n",
                "        grid = len(flame.grid)\n",
                "        speeds.append(speed)\n",
                "        grids.append(grid)\n",
                "        print(f\"Iteration {len(grids)}\")\n",
                "        print(f\"Current flame speed is is {speed * 100:.4f} cm/s\")\n",
                "        if len(grids) < 5:\n",
                "            return 1.0  #\n",
                "        try:\n",
                "            extrapolate_uncertainty(grids, speeds)\n",
                "        except Exception as e:\n",
                "            print(\"Couldn't estimate uncertainty. \" + str(e))\n",
                "            return 1.0  # continue anyway\n",
                "        return 1.0\n",
                "\n",
                "    return callback, speeds, grids"
            ]
        },
        {
            "cell_type": "markdown",
            "metadata": {},
            "source": [
                "### Define the reactant conditions, gas mixture and kinetic mechanism associated with the gas"
            ]
        },
        {
            "cell_type": "code",
            "execution_count": null,
            "metadata": {},
            "outputs": [],
            "source": [
                "# Inlet Temperature in Kelvin and Inlet Pressure in Pascals\n",
                "# In this case we are setting the inlet T and P to room temperature conditions\n",
                "To = 300\n",
                "Po = 101325\n",
                "\n",
                "# Define the gas-mixutre and kinetics\n",
                "# In this case, we are choosing a GRI3.0 gas\n",
                "gas = ct.Solution(\"gri30.yaml\")\n",
                "\n",
                "# Create a stoichiometric CH4/Air premixed mixture\n",
                "gas.set_equivalence_ratio(1.0, \"CH4\", {\"O2\": 1.0, \"N2\": 3.76})\n",
                "gas.TP = To, Po"
            ]
        },
        {
            "cell_type": "markdown",
            "metadata": {},
            "source": [
                "### Define flame simulation conditions"
            ]
        },
        {
            "cell_type": "code",
            "execution_count": null,
            "metadata": {},
            "outputs": [],
            "source": [
                "# Domain width in metres\n",
                "width = 0.014\n",
                "\n",
                "# Create the flame object\n",
                "flame = ct.FreeFlame(gas, width=width)\n",
                "\n",
                "# Define logging level\n",
                "loglevel = 1\n",
                "\n",
                "# Define tight tolerances for the solver\n",
                "refine_criteria = {\"ratio\": 2, \"slope\": 0.01, \"curve\": 0.01}\n",
                "flame.set_refine_criteria(**refine_criteria)\n",
                "\n",
                "# Set maxiumum number of grid points to be very high (otherwise default is 1000)\n",
                "flame.set_max_grid_points(flame.domains[flame.domain_index(\"flame\")], 1e4)"
            ]
        },
        {
            "cell_type": "code",
            "execution_count": null,
            "metadata": {},
            "outputs": [],
            "source": [
                "# Set up the the callback function and lists of speeds and grids\n",
                "callback, speeds, grids = make_callback(flame)\n",
                "flame.set_steady_callback(callback)"
            ]
        },
        {
            "cell_type": "markdown",
            "metadata": {},
            "source": [
                "### Solve\n",
                "\n",
                "After the first five iterations, it will start to estimate the uncertainty."
            ]
        },
        {
            "cell_type": "code",
            "execution_count": null,
            "metadata": {
                "scrolled": true
            },
            "outputs": [],
            "source": [
                "flame.solve(loglevel=loglevel, auto=True)\n",
                "\n",
                "Su0 = flame.velocity[0]\n",
                "print(f\"Flame Speed is: {Su0 * 100:.2f} cm/s\")"
            ]
        },
        {
            "cell_type": "markdown",
            "metadata": {},
            "source": [
                "Use the final lists of grid sizes and flame speeds to make one final extrapolation \"best guess\" "
            ]
        },
        {
            "cell_type": "code",
            "execution_count": null,
            "metadata": {},
            "outputs": [],
            "source": [
                "best_true_speed_estimate, best_total_percent_error_estimate = extrapolate_uncertainty(\n",
                "    grids, speeds\n",
                ")\n",
                "\n",
                "best_true_speed_estimate"
            ]
        },
        {
            "cell_type": "markdown",
            "metadata": {},
            "source": [
                "## Analyze the error predictions\n",
                "Now let's see how good our error estimates were, with hindsight.\n",
                "\n",
                "If we assume that the final answer, with a very fine grid, has actually converged\n",
                "and is is the \"truth\", then we can find out how large the errors were in the previous values, \n",
                "and compare these with our estimated errors. This will show if our estimates are reasonable, \n",
                "or conservative, or too optimistic."
            ]
        },
        {
            "cell_type": "code",
            "execution_count": null,
            "metadata": {},
            "outputs": [],
            "source": [
                "def analyze_errors(grids, speeds, true_speed):\n",
                "    \"\"\"\n",
                "    If we assume that the final answer, with a very fine grid,\n",
                "    has actually converged and is is the \"truth\", then we can\n",
                "    find out how large the errors were in the previous values,\n",
                "    and compare these with our estimated errors.\n",
                "    This will show if our estimates are reasonable, or conservative, or too optimistic.\n",
                "    \"\"\"\n",
                "    true_speed_estimates = np.full_like(speeds, np.NaN)\n",
                "    total_percent_error_estimates = np.full_like(speeds, np.NaN)\n",
                "    actual_extrapolated_percent_errors = np.full_like(speeds, np.NaN)\n",
                "    actual_raw_percent_errors = np.full_like(speeds, np.NaN)\n",
                "    for i in range(3, len(grids)):\n",
                "        print(grids[: i + 1])\n",
                "        true_speed_estimate, total_percent_error_estimate = extrapolate_uncertainty(\n",
                "            grids[: i + 1], speeds[: i + 1], plot=False\n",
                "        )\n",
                "        actual_extrapolated_percent_error = (\n",
                "            abs(true_speed_estimate - true_speed) / true_speed\n",
                "        )\n",
                "        actual_raw_percent_error = abs(speeds[i] - true_speed) / true_speed\n",
                "        print(\n",
                "            \"Actual extrapolated error (with hindsight) \"\n",
                "            f\"{actual_extrapolated_percent_error:.1%}\"\n",
                "        )\n",
                "        print(f\"Actual raw error (with hindsight) {actual_raw_percent_error:.1%}\")\n",
                "\n",
                "        true_speed_estimates[i] = true_speed_estimate\n",
                "        total_percent_error_estimates[i] = total_percent_error_estimate\n",
                "        actual_extrapolated_percent_errors[i] = actual_extrapolated_percent_error\n",
                "        actual_raw_percent_errors[i] = actual_raw_percent_error\n",
                "        print()\n",
                "\n",
                "    plt.loglog(grids, actual_raw_percent_errors * 100, \"o-\", label=\"raw error\")\n",
                "    plt.loglog(\n",
                "        grids,\n",
                "        actual_extrapolated_percent_errors * 100,\n",
                "        \"o-\",\n",
                "        label=\"extrapolated error\",\n",
                "    )\n",
                "    plt.loglog(\n",
                "        grids, total_percent_error_estimates * 100, \"o-\", label=\"estimated error\"\n",
                "    )\n",
                "    plt.ylabel(\"Error in flame speed (%)\")\n",
                "    plt.xlabel(\"Grid size\")\n",
                "    plt.legend()\n",
                "    plt.title(flame.get_refine_criteria())\n",
                "    plt.gca().get_yaxis().set_major_formatter(matplotlib.ticker.PercentFormatter())\n",
                "    plt.show()\n",
                "    flame.get_refine_criteria()\n",
                "\n",
                "    data = pd.DataFrame(\n",
                "        data={\n",
                "            \"actual error in raw value\": actual_raw_percent_errors * 100,\n",
                "            \"actual error in extrapolated value\": actual_extrapolated_percent_errors\n",
                "            * 100,\n",
                "            \"estimated error\": total_percent_error_estimates * 100,\n",
                "        },\n",
                "        index=grids,\n",
                "    )\n",
                "    display(data)"
            ]
        },
        {
            "cell_type": "code",
            "execution_count": null,
            "metadata": {},
            "outputs": [],
            "source": [
                "analyze_errors(grids, speeds, best_true_speed_estimate)"
            ]
        },
        {
            "cell_type": "markdown",
            "metadata": {},
            "source": [
                "## Repeat with less tight refine criteria"
            ]
        },
        {
            "cell_type": "code",
            "execution_count": null,
            "metadata": {},
            "outputs": [],
            "source": [
                "refine_criteria = {\"ratio\": 3, \"slope\": 0.1, \"curve\": 0.1}"
            ]
        },
        {
            "cell_type": "code",
            "execution_count": null,
            "metadata": {
                "scrolled": true
            },
            "outputs": [],
            "source": [
                "# Reset the gas\n",
                "gas.set_equivalence_ratio(1.0, \"CH4\", {\"O2\": 1.0, \"N2\": 3.76})\n",
                "gas.TP = To, Po\n",
                "\n",
                "# Create a new flame object\n",
                "flame = ct.FreeFlame(gas, width=width)\n",
                "\n",
                "flame.set_refine_criteria(**refine_criteria)\n",
                "flame.set_max_grid_points(flame.domains[flame.domain_index(\"flame\")], 1e4)\n",
                "\n",
                "callback, speeds, grids = make_callback(flame)\n",
                "flame.set_steady_callback(callback)\n",
                "\n",
                "# Define logging level\n",
                "loglevel = 1\n",
                "\n",
                "flame.solve(loglevel=loglevel, auto=True)\n",
                "\n",
                "Su0 = flame.velocity[0]\n",
                "print(f\"Flame Speed is: {Su0 * 100:.2f} cm/s\")"
            ]
        },
        {
            "cell_type": "code",
            "execution_count": null,
            "metadata": {},
            "outputs": [],
            "source": [
                "# Use the best true speed estimate from the fine grid tight criteria above\n",
                "analyze_errors(grids, speeds, best_true_speed_estimate)"
            ]
        },
        {
            "cell_type": "markdown",
            "metadata": {},
            "source": [
                "## Default (loose) criteria"
            ]
        },
        {
            "cell_type": "code",
            "execution_count": null,
            "metadata": {},
            "outputs": [],
            "source": [
                "flame = ct.FreeFlame(gas, width=width)\n",
                "flame.get_refine_criteria()\n",
                "refine_criteria = flame.get_refine_criteria()\n",
                "refine_criteria.update({\"prune\": 0})\n",
                "refine_criteria"
            ]
        },
        {
            "cell_type": "code",
            "execution_count": null,
            "metadata": {
                "scrolled": true
            },
            "outputs": [],
            "source": [
                "gas.set_equivalence_ratio(1.0, \"CH4\", {\"O2\": 1.0, \"N2\": 3.76})\n",
                "gas.TP = To, Po\n",
                "\n",
                "# Create a new flame object\n",
                "flame = ct.FreeFlame(gas, width=width)\n",
                "\n",
                "flame.set_refine_criteria(**refine_criteria)\n",
                "flame.set_max_grid_points(flame.domains[flame.domain_index(\"flame\")], 1e4)\n",
                "\n",
                "callback, speeds, grids = make_callback(flame)\n",
                "flame.set_steady_callback(callback)\n",
                "\n",
                "# Define logging level\n",
                "loglevel = 1\n",
                "\n",
                "flame.solve(loglevel=loglevel, auto=True)\n",
                "\n",
                "Su0 = flame.velocity[0]\n",
                "print(f\"Flame Speed is: {Su0 * 100:.2f} cm/s\")"
            ]
        },
        {
            "cell_type": "code",
            "execution_count": null,
            "metadata": {},
            "outputs": [],
            "source": [
                "analyze_errors(grids, speeds, best_true_speed_estimate)"
            ]
        },
        {
            "cell_type": "markdown",
            "metadata": {},
            "source": [
                "## Middling refine criteria"
            ]
        },
        {
            "cell_type": "code",
            "execution_count": null,
            "metadata": {},
            "outputs": [],
            "source": [
                "refine_criteria = {\"ratio\": 3, \"slope\": 0.1, \"curve\": 0.1}"
            ]
        },
        {
            "cell_type": "code",
            "execution_count": null,
            "metadata": {
                "scrolled": true
            },
            "outputs": [],
            "source": [
                "# Reset the gas\n",
                "gas.set_equivalence_ratio(1.0, \"CH4\", {\"O2\": 1.0, \"N2\": 3.76})\n",
                "gas.TP = To, Po\n",
                "\n",
                "# Create a new flame object\n",
                "flame = ct.FreeFlame(gas, width=width)\n",
                "\n",
                "flame.set_refine_criteria(**refine_criteria)\n",
                "flame.set_max_grid_points(flame.domains[flame.domain_index(\"flame\")], 1e4)\n",
                "\n",
                "callback, speeds, grids = make_callback(flame)\n",
                "flame.set_steady_callback(callback)\n",
                "\n",
                "# Define logging level\n",
                "loglevel = 1\n",
                "\n",
                "flame.solve(loglevel=loglevel, auto=True)\n",
                "\n",
                "Su0 = flame.velocity[0]\n",
                "print(f\"Flame Speed is: {Su0 * 100:.2f} cm/s\")"
            ]
        },
        {
            "cell_type": "code",
            "execution_count": null,
            "metadata": {},
            "outputs": [],
            "source": [
                "analyze_errors(grids, speeds, best_true_speed_estimate)"
            ]
        },
        {
            "cell_type": "markdown",
            "metadata": {},
            "source": [
                "## Try a Hydrogen flame (still with GRI mech)"
            ]
        },
        {
            "cell_type": "code",
            "execution_count": null,
            "metadata": {},
            "outputs": [],
            "source": [
                "# Tight criteria\n",
                "refine_criteria = {\"ratio\": 2, \"slope\": 0.01, \"curve\": 0.01}"
            ]
        },
        {
            "cell_type": "code",
            "execution_count": null,
            "metadata": {
                "scrolled": true
            },
            "outputs": [],
            "source": [
                "# Reset the gas\n",
                "gas.set_equivalence_ratio(1.0, \"H2\", {\"O2\": 1.0, \"N2\": 3.76})\n",
                "gas.TP = To, Po\n",
                "\n",
                "# Create a new flame object\n",
                "flame = ct.FreeFlame(gas, width=width)\n",
                "\n",
                "flame.set_refine_criteria(**refine_criteria)\n",
                "flame.set_max_grid_points(flame.domains[flame.domain_index(\"flame\")], 1e4)\n",
                "\n",
                "callback, speeds, grids = make_callback(flame)\n",
                "flame.set_steady_callback(callback)\n",
                "\n",
                "# Define logging level\n",
                "loglevel = 1\n",
                "\n",
                "flame.solve(loglevel=loglevel, auto=True)\n",
                "\n",
                "Su0 = flame.velocity[0]\n",
                "print(f\"Flame Speed is: {Su0 * 100:.2f} cm/s\")"
            ]
        },
        {
            "cell_type": "code",
            "execution_count": null,
            "metadata": {},
            "outputs": [],
            "source": [
                "# get a new best true speed estimate\n",
                "best_true_speed_estimate, best_total_percent_error_estimate = extrapolate_uncertainty(\n",
                "    grids, speeds\n",
                ")"
            ]
        },
        {
            "cell_type": "code",
            "execution_count": null,
            "metadata": {},
            "outputs": [],
            "source": [
                "analyze_errors(grids, speeds, best_true_speed_estimate)"
            ]
        },
        {
            "cell_type": "markdown",
            "metadata": {},
            "source": [
                "## Middling refine criteria, Hydrogen flame"
            ]
        },
        {
            "cell_type": "code",
            "execution_count": null,
            "metadata": {},
            "outputs": [],
            "source": [
                "refine_criteria = {\"ratio\": 3, \"slope\": 0.1, \"curve\": 0.1}"
            ]
        },
        {
            "cell_type": "code",
            "execution_count": null,
            "metadata": {
                "scrolled": true
            },
            "outputs": [],
            "source": [
                "# Reset the gas\n",
                "gas.set_equivalence_ratio(1.0, \"H2\", {\"O2\": 1.0, \"N2\": 3.76})\n",
                "gas.TP = To, Po\n",
                "\n",
                "# Create a new flame object\n",
                "flame = ct.FreeFlame(gas, width=width)\n",
                "\n",
                "flame.set_refine_criteria(**refine_criteria)\n",
                "flame.set_max_grid_points(flame.domains[flame.domain_index(\"flame\")], 1e4)\n",
                "\n",
                "callback, speeds, grids = make_callback(flame)\n",
                "flame.set_steady_callback(callback)\n",
                "\n",
                "# Define logging level\n",
                "loglevel = 1\n",
                "\n",
                "flame.solve(loglevel=loglevel, auto=True)\n",
                "\n",
                "Su0 = flame.velocity[0]\n",
                "print(f\"Flame Speed is: {Su0 * 100:.2f} cm/s\")"
            ]
        },
        {
            "cell_type": "code",
            "execution_count": null,
            "metadata": {},
            "outputs": [],
            "source": [
                "analyze_errors(grids, speeds, best_true_speed_estimate)"
            ]
        }
    ],
    "metadata": {
        "kernelspec": {
            "display_name": "Python 3 (ipykernel)",
            "language": "python",
            "name": "python3"
        },
        "language_info": {
            "codemirror_mode": {
                "name": "ipython",
                "version": 3
            },
            "file_extension": ".py",
            "mimetype": "text/x-python",
            "name": "python",
            "nbconvert_exporter": "python",
            "pygments_lexer": "ipython3",
            "version": "3.10.10"
        }
    },
    "nbformat": 4,
    "nbformat_minor": 4
}
