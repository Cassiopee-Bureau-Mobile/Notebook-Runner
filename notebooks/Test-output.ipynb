{
 "cells": [
  {
   "cell_type": "code",
   "execution_count": 1,
   "metadata": {
    "execution": {
     "iopub.execute_input": "2023-03-06T20:13:20.076352Z",
     "iopub.status.busy": "2023-03-06T20:13:20.076159Z",
     "iopub.status.idle": "2023-03-06T20:13:20.082984Z",
     "shell.execute_reply": "2023-03-06T20:13:20.082304Z"
    }
   },
   "outputs": [],
   "source": [
    "import math"
   ]
  },
  {
   "cell_type": "code",
   "execution_count": 2,
   "metadata": {
    "execution": {
     "iopub.execute_input": "2023-03-06T20:13:20.085470Z",
     "iopub.status.busy": "2023-03-06T20:13:20.085278Z",
     "iopub.status.idle": "2023-03-06T20:13:20.088300Z",
     "shell.execute_reply": "2023-03-06T20:13:20.087640Z"
    }
   },
   "outputs": [],
   "source": [
    "a = math.sqrt(2)"
   ]
  },
  {
   "cell_type": "code",
   "execution_count": 3,
   "metadata": {
    "execution": {
     "iopub.execute_input": "2023-03-06T20:13:20.090969Z",
     "iopub.status.busy": "2023-03-06T20:13:20.090407Z",
     "iopub.status.idle": "2023-03-06T20:13:20.093274Z",
     "shell.execute_reply": "2023-03-06T20:13:20.092719Z"
    }
   },
   "outputs": [],
   "source": [
    "b = math.sqrt(3)"
   ]
  },
  {
   "cell_type": "code",
   "execution_count": 4,
   "metadata": {
    "execution": {
     "iopub.execute_input": "2023-03-06T20:13:20.095780Z",
     "iopub.status.busy": "2023-03-06T20:13:20.095266Z",
     "iopub.status.idle": "2023-03-06T20:13:20.098736Z",
     "shell.execute_reply": "2023-03-06T20:13:20.098079Z"
    }
   },
   "outputs": [
    {
     "name": "stdout",
     "output_type": "stream",
     "text": [
      "3.1462643699419726\n"
     ]
    }
   ],
   "source": [
    "print(a +b)"
   ]
  }
 ],
 "metadata": {
  "kernelspec": {
   "display_name": "Python 3",
   "language": "python",
   "name": "python3"
  },
  "language_info": {
   "codemirror_mode": {
    "name": "ipython",
    "version": 3
   },
   "file_extension": ".py",
   "mimetype": "text/x-python",
   "name": "python",
   "nbconvert_exporter": "python",
   "pygments_lexer": "ipython3",
   "version": "3.10.10"
  },
  "vscode": {
   "interpreter": {
    "hash": "97cc609b13305c559618ec78a438abc56230b9381f827f22d070313b9a1f3777"
   }
  }
 },
 "nbformat": 4,
 "nbformat_minor": 2
}
