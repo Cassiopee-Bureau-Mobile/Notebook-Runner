{
  "cells": [
    {
      "cell_type": "code",
      "source": [
        "import math"
      ],
      "outputs": [],
      "metadata": {},
      "execution_count": 1
    },
    {
      "cell_type": "code",
      "source": [
        "import time\n",
        "\n",
        "for i in range(10):\n",
        "    print(math.sin(i))\n",
        "    time.sleep(1)\n",
        "    "
      ],
      "outputs": [],
      "metadata": {},
      "execution_count": 2
    },
    {
      "cell_type": "code",
      "source": [
        "a = math.sqrt(2)"
      ],
      "outputs": [],
      "metadata": {}
    },
    {
      "cell_type": "code",
      "source": [
        "b = math.sqrt(3)"
      ],
      "outputs": [],
      "metadata": {}
    },
    {
      "cell_type": "code",
      "source": [
        "print(a +b)"
      ],
      "outputs": [],
      "metadata": {}
    }
  ],
  "nbformat": 4,
  "nbformat_minor": 2,
  "metadata": {
    "orig_nbformat": 4,
    "kernelspec": {
      "display_name": "Python 3",
      "language": "python",
      "name": "python3"
    },
    "language_info": {
      "file_extension": ".py",
      "mimetype": "text/x-python",
      "name": "python",
      "nbconvert_exporter": "python",
      "pygments_lexer": "ipython3",
      "version": "3.11.0rc1",
      "codemirror_mode": {
        "name": "ipython",
        "version": 3
      }
    },
    "vscode": {
      "interpreter": {
        "hash": "97cc609b13305c559618ec78a438abc56230b9381f827f22d070313b9a1f3777"
      }
    }
  }
}