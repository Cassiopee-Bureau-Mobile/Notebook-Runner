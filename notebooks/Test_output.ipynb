{
 "cells": [
  {
   "cell_type": "code",
   "execution_count": 1,
   "metadata": {
    "execution": {
     "iopub.execute_input": "2023-03-07T14:38:01.659182Z",
     "iopub.status.busy": "2023-03-07T14:38:01.658721Z",
     "iopub.status.idle": "2023-03-07T14:38:01.664522Z",
     "shell.execute_reply": "2023-03-07T14:38:01.663865Z"
    }
   },
   "outputs": [],
   "source": [
    "import math"
   ]
  },
  {
   "cell_type": "code",
   "execution_count": 2,
   "metadata": {
    "execution": {
     "iopub.execute_input": "2023-03-07T14:38:01.666824Z",
     "iopub.status.busy": "2023-03-07T14:38:01.666461Z",
     "iopub.status.idle": "2023-03-07T14:38:11.679261Z",
     "shell.execute_reply": "2023-03-07T14:38:11.678578Z"
    }
   },
   "outputs": [
    {
     "name": "stdout",
     "output_type": "stream",
     "text": [
      "0.0\n",
      "0.8414709848078965\n",
      "0.9092974268256817\n",
      "0.1411200080598672\n",
      "-0.7568024953079282\n",
      "-0.9589242746631385\n",
      "-0.27941549819892586\n",
      "0.6569865987187891\n",
      "0.9893582466233818\n",
      "0.4121184852417566\n"
     ]
    }
   ],
   "source": [
    "import time\n",
    "\n",
    "for i in range(10):\n",
    "    print(math.sin(i))\n",
    "    time.sleep(1)\n",
    "    "
   ]
  },
  {
   "cell_type": "code",
   "execution_count": 3,
   "metadata": {
    "execution": {
     "iopub.execute_input": "2023-03-07T14:38:11.681450Z",
     "iopub.status.busy": "2023-03-07T14:38:11.681284Z",
     "iopub.status.idle": "2023-03-07T14:38:11.684235Z",
     "shell.execute_reply": "2023-03-07T14:38:11.683510Z"
    }
   },
   "outputs": [],
   "source": [
    "a = math.sqrt(2)"
   ]
  },
  {
   "cell_type": "code",
   "execution_count": 4,
   "metadata": {
    "execution": {
     "iopub.execute_input": "2023-03-07T14:38:11.687267Z",
     "iopub.status.busy": "2023-03-07T14:38:11.686837Z",
     "iopub.status.idle": "2023-03-07T14:38:11.690339Z",
     "shell.execute_reply": "2023-03-07T14:38:11.689611Z"
    }
   },
   "outputs": [],
   "source": [
    "b = math.sqrt(3)"
   ]
  },
  {
   "cell_type": "code",
   "execution_count": 5,
   "metadata": {
    "execution": {
     "iopub.execute_input": "2023-03-07T14:38:11.692928Z",
     "iopub.status.busy": "2023-03-07T14:38:11.692628Z",
     "iopub.status.idle": "2023-03-07T14:38:11.695972Z",
     "shell.execute_reply": "2023-03-07T14:38:11.695285Z"
    }
   },
   "outputs": [
    {
     "name": "stdout",
     "output_type": "stream",
     "text": [
      "3.1462643699419726\n"
     ]
    }
   ],
   "source": [
    "print(a +b)"
   ]
  }
 ],
 "metadata": {
  "kernelspec": {
   "display_name": "Python 3",
   "language": "python",
   "name": "python3"
  },
  "language_info": {
   "codemirror_mode": {
    "name": "ipython",
    "version": 3
   },
   "file_extension": ".py",
   "mimetype": "text/x-python",
   "name": "python",
   "nbconvert_exporter": "python",
   "pygments_lexer": "ipython3",
   "version": "3.10.10"
  },
  "vscode": {
   "interpreter": {
    "hash": "97cc609b13305c559618ec78a438abc56230b9381f827f22d070313b9a1f3777"
   }
  }
 },
 "nbformat": 4,
 "nbformat_minor": 2
}
