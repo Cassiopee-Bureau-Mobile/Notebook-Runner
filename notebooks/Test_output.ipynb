{
 "cells": [
  {
   "cell_type": "code",
   "execution_count": 1,
   "metadata": {
    "execution": {
     "iopub.execute_input": "2023-03-12T20:44:44.125607Z",
     "iopub.status.busy": "2023-03-12T20:44:44.125012Z",
     "iopub.status.idle": "2023-03-12T20:44:44.144512Z",
     "shell.execute_reply": "2023-03-12T20:44:44.142715Z"
    }
   },
   "outputs": [],
   "source": [
    "import math"
   ]
  },
  {
   "cell_type": "code",
   "execution_count": 2,
   "metadata": {
    "execution": {
     "iopub.execute_input": "2023-03-12T20:44:44.151695Z",
     "iopub.status.busy": "2023-03-12T20:44:44.150399Z",
     "iopub.status.idle": "2023-03-12T20:44:54.166965Z",
     "shell.execute_reply": "2023-03-12T20:44:54.163272Z"
    }
   },
   "outputs": [
    {
     "name": "stdout",
     "output_type": "stream",
     "text": [
      "0.0\n",
      "0.8414709848078965\n",
      "0.9092974268256817\n",
      "0.1411200080598672\n",
      "-0.7568024953079282\n",
      "-0.9589242746631385\n",
      "-0.27941549819892586\n",
      "0.6569865987187891\n",
      "0.9893582466233818\n",
      "0.4121184852417566\n"
     ]
    }
   ],
   "source": [
    "import time\n",
    "\n",
    "for i in range(10):\n",
    "    print(math.sin(i))\n",
    "    time.sleep(1)\n",
    "    "
   ]
  },
  {
   "cell_type": "code",
   "execution_count": 3,
   "metadata": {
    "execution": {
     "iopub.execute_input": "2023-03-12T20:44:54.178524Z",
     "iopub.status.busy": "2023-03-12T20:44:54.177514Z",
     "iopub.status.idle": "2023-03-12T20:44:54.191490Z",
     "shell.execute_reply": "2023-03-12T20:44:54.188381Z"
    }
   },
   "outputs": [],
   "source": [
    "a = math.sqrt(2)"
   ]
  },
  {
   "cell_type": "code",
   "execution_count": 4,
   "metadata": {
    "execution": {
     "iopub.execute_input": "2023-03-12T20:44:54.199375Z",
     "iopub.status.busy": "2023-03-12T20:44:54.198728Z",
     "iopub.status.idle": "2023-03-12T20:44:54.208333Z",
     "shell.execute_reply": "2023-03-12T20:44:54.206055Z"
    }
   },
   "outputs": [],
   "source": [
    "b = math.sqrt(3)"
   ]
  },
  {
   "cell_type": "code",
   "execution_count": 5,
   "metadata": {
    "execution": {
     "iopub.execute_input": "2023-03-12T20:44:54.215361Z",
     "iopub.status.busy": "2023-03-12T20:44:54.213937Z",
     "iopub.status.idle": "2023-03-12T20:44:54.223813Z",
     "shell.execute_reply": "2023-03-12T20:44:54.221140Z"
    }
   },
   "outputs": [
    {
     "name": "stdout",
     "output_type": "stream",
     "text": [
      "3.1462643699419726\n"
     ]
    }
   ],
   "source": [
    "print(a +b)"
   ]
  }
 ],
 "metadata": {
  "kernelspec": {
   "display_name": "Python 3",
   "language": "python",
   "name": "python3"
  },
  "language_info": {
   "codemirror_mode": {
    "name": "ipython",
    "version": 3
   },
   "file_extension": ".py",
   "mimetype": "text/x-python",
   "name": "python",
   "nbconvert_exporter": "python",
   "pygments_lexer": "ipython3",
   "version": "3.11.0rc1"
  },
  "vscode": {
   "interpreter": {
    "hash": "97cc609b13305c559618ec78a438abc56230b9381f827f22d070313b9a1f3777"
   }
  }
 },
 "nbformat": 4,
 "nbformat_minor": 2
}
