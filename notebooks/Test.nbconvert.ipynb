{
 "cells": [
  {
   "cell_type": "code",
   "execution_count": 1,
   "id": "de6863b7",
   "metadata": {
    "execution": {
     "iopub.execute_input": "2023-03-18T21:58:36.944730Z",
     "iopub.status.busy": "2023-03-18T21:58:36.938125Z",
     "iopub.status.idle": "2023-03-18T21:58:36.964267Z",
     "shell.execute_reply": "2023-03-18T21:58:36.962243Z"
    },
    "papermill": {
     "duration": 0.754782,
     "end_time": "2023-03-18T21:58:36.971843",
     "exception": false,
     "start_time": "2023-03-18T21:58:36.217061",
     "status": "completed"
    },
    "tags": []
   },
   "outputs": [],
   "source": [
    "import math"
   ]
  },
  {
   "cell_type": "code",
   "execution_count": 2,
   "id": "27afe8dc",
   "metadata": {
    "execution": {
     "iopub.execute_input": "2023-03-18T21:58:37.004363Z",
     "iopub.status.busy": "2023-03-18T21:58:37.001987Z",
     "iopub.status.idle": "2023-03-18T21:58:47.940192Z",
     "shell.execute_reply": "2023-03-18T21:58:47.894492Z"
    },
    "papermill": {
     "duration": 10.976627,
     "end_time": "2023-03-18T21:58:47.967544",
     "exception": false,
     "start_time": "2023-03-18T21:58:36.990917",
     "status": "completed"
    },
    "tags": []
   },
   "outputs": [
    {
     "name": "stdout",
     "output_type": "stream",
     "text": [
      "0.0\n"
     ]
    },
    {
     "name": "stdout",
     "output_type": "stream",
     "text": [
      "0.8414709848078965\n"
     ]
    },
    {
     "name": "stdout",
     "output_type": "stream",
     "text": [
      "0.9092974268256817\n"
     ]
    },
    {
     "name": "stdout",
     "output_type": "stream",
     "text": [
      "0.1411200080598672\n"
     ]
    },
    {
     "name": "stdout",
     "output_type": "stream",
     "text": [
      "-0.7568024953079282\n"
     ]
    },
    {
     "name": "stdout",
     "output_type": "stream",
     "text": [
      "-0.9589242746631385\n"
     ]
    },
    {
     "name": "stdout",
     "output_type": "stream",
     "text": [
      "-0.27941549819892586\n"
     ]
    },
    {
     "name": "stdout",
     "output_type": "stream",
     "text": [
      "0.6569865987187891\n"
     ]
    },
    {
     "name": "stdout",
     "output_type": "stream",
     "text": [
      "0.9893582466233818\n"
     ]
    },
    {
     "name": "stdout",
     "output_type": "stream",
     "text": [
      "0.4121184852417566\n"
     ]
    }
   ],
   "source": [
    "import time\n",
    "\n",
    "for i in range(10):\n",
    "    print(math.sin(i))\n",
    "    time.sleep(1)\n",
    "    "
   ]
  },
  {
   "cell_type": "code",
   "execution_count": 3,
   "id": "69e64df6",
   "metadata": {
    "execution": {
     "iopub.execute_input": "2023-03-18T21:58:48.022697Z",
     "iopub.status.busy": "2023-03-18T21:58:48.022004Z",
     "iopub.status.idle": "2023-03-18T21:58:48.035708Z",
     "shell.execute_reply": "2023-03-18T21:58:48.034478Z"
    },
    "papermill": {
     "duration": 0.036791,
     "end_time": "2023-03-18T21:58:48.049843",
     "exception": false,
     "start_time": "2023-03-18T21:58:48.013052",
     "status": "completed"
    },
    "tags": []
   },
   "outputs": [],
   "source": [
    "a = math.sqrt(2)"
   ]
  },
  {
   "cell_type": "code",
   "execution_count": 4,
   "id": "05726526",
   "metadata": {
    "execution": {
     "iopub.execute_input": "2023-03-18T21:58:48.082235Z",
     "iopub.status.busy": "2023-03-18T21:58:48.071494Z",
     "iopub.status.idle": "2023-03-18T21:58:48.090847Z",
     "shell.execute_reply": "2023-03-18T21:58:48.088392Z"
    },
    "papermill": {
     "duration": 0.052273,
     "end_time": "2023-03-18T21:58:48.108034",
     "exception": false,
     "start_time": "2023-03-18T21:58:48.055761",
     "status": "completed"
    },
    "tags": []
   },
   "outputs": [],
   "source": [
    "b = math.sqrt(3)"
   ]
  },
  {
   "cell_type": "code",
   "execution_count": 5,
   "id": "dd7558cb",
   "metadata": {
    "execution": {
     "iopub.execute_input": "2023-03-18T21:58:48.139289Z",
     "iopub.status.busy": "2023-03-18T21:58:48.136690Z",
     "iopub.status.idle": "2023-03-18T21:58:48.154968Z",
     "shell.execute_reply": "2023-03-18T21:58:48.151683Z"
    },
    "papermill": {
     "duration": 0.046227,
     "end_time": "2023-03-18T21:58:48.167609",
     "exception": false,
     "start_time": "2023-03-18T21:58:48.121382",
     "status": "completed"
    },
    "tags": []
   },
   "outputs": [
    {
     "name": "stdout",
     "output_type": "stream",
     "text": [
      "3.1462643699419726\n"
     ]
    }
   ],
   "source": [
    "print(a +b)"
   ]
  }
 ],
 "metadata": {
  "kernelspec": {
   "display_name": "Python 3",
   "language": "python",
   "name": "python3"
  },
  "language_info": {
   "codemirror_mode": {
    "name": "ipython",
    "version": 3
   },
   "file_extension": ".py",
   "mimetype": "text/x-python",
   "name": "python",
   "nbconvert_exporter": "python",
   "pygments_lexer": "ipython3",
   "version": "3.11.0rc1"
  },
  "papermill": {
   "default_parameters": {},
   "duration": 29.010616,
   "end_time": "2023-03-18T21:58:49.319256",
   "environment_variables": {},
   "exception": null,
   "input_path": "notebooks/Test.ipynb",
   "output_path": "notebooks/Test.nbconvert.ipynb",
   "parameters": {},
   "start_time": "2023-03-18T21:58:20.308640",
   "version": "2.4.0"
  },
  "vscode": {
   "interpreter": {
    "hash": "97cc609b13305c559618ec78a438abc56230b9381f827f22d070313b9a1f3777"
   }
  }
 },
 "nbformat": 4,
 "nbformat_minor": 5
}