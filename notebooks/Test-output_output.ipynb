{
 "cells": [
  {
   "cell_type": "code",
   "execution_count": 1,
   "metadata": {
    "execution": {
     "iopub.execute_input": "2023-03-06T20:35:59.507899Z",
     "iopub.status.busy": "2023-03-06T20:35:59.507068Z",
     "iopub.status.idle": "2023-03-06T20:35:59.513904Z",
     "shell.execute_reply": "2023-03-06T20:35:59.513089Z"
    }
   },
   "outputs": [],
   "source": [
    "import math"
   ]
  },
  {
   "cell_type": "code",
   "execution_count": 2,
   "metadata": {
    "execution": {
     "iopub.execute_input": "2023-03-06T20:35:59.516882Z",
     "iopub.status.busy": "2023-03-06T20:35:59.516568Z",
     "iopub.status.idle": "2023-03-06T20:35:59.519581Z",
     "shell.execute_reply": "2023-03-06T20:35:59.518927Z"
    }
   },
   "outputs": [],
   "source": [
    "a = math.sqrt(2)"
   ]
  },
  {
   "cell_type": "code",
   "execution_count": 3,
   "metadata": {
    "execution": {
     "iopub.execute_input": "2023-03-06T20:35:59.521674Z",
     "iopub.status.busy": "2023-03-06T20:35:59.521470Z",
     "iopub.status.idle": "2023-03-06T20:35:59.524596Z",
     "shell.execute_reply": "2023-03-06T20:35:59.523967Z"
    }
   },
   "outputs": [],
   "source": [
    "b = math.sqrt(3)"
   ]
  },
  {
   "cell_type": "code",
   "execution_count": 4,
   "metadata": {
    "execution": {
     "iopub.execute_input": "2023-03-06T20:35:59.527284Z",
     "iopub.status.busy": "2023-03-06T20:35:59.526783Z",
     "iopub.status.idle": "2023-03-06T20:35:59.530925Z",
     "shell.execute_reply": "2023-03-06T20:35:59.529943Z"
    }
   },
   "outputs": [
    {
     "name": "stdout",
     "output_type": "stream",
     "text": [
      "3.1462643699419726\n"
     ]
    }
   ],
   "source": [
    "print(a +b)"
   ]
  }
 ],
 "metadata": {
  "kernelspec": {
   "display_name": "Python 3",
   "language": "python",
   "name": "python3"
  },
  "language_info": {
   "codemirror_mode": {
    "name": "ipython",
    "version": 3
   },
   "file_extension": ".py",
   "mimetype": "text/x-python",
   "name": "python",
   "nbconvert_exporter": "python",
   "pygments_lexer": "ipython3",
   "version": "3.10.10"
  },
  "vscode": {
   "interpreter": {
    "hash": "97cc609b13305c559618ec78a438abc56230b9381f827f22d070313b9a1f3777"
   }
  }
 },
 "nbformat": 4,
 "nbformat_minor": 2
}
